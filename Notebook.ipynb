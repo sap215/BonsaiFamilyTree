{
 "cells": [
  {
   "cell_type": "markdown",
   "metadata": {},
   "source": [
    "### Imports"
   ]
  },
  {
   "cell_type": "code",
   "execution_count": 2,
   "metadata": {},
   "outputs": [
    {
     "name": "stderr",
     "output_type": "stream",
     "text": [
      "/var/folders/kf/4mbvx4jx6jl2h4j6258cj1vm0000gn/T/ipykernel_92438/35968027.py:2: DeprecationWarning: \n",
      "Pyarrow will become a required dependency of pandas in the next major release of pandas (pandas 3.0),\n",
      "(to allow more performant data types, such as the Arrow string type, and better interoperability with other libraries)\n",
      "but was not found to be installed on your system.\n",
      "If this would cause problems for you,\n",
      "please provide us feedback at https://github.com/pandas-dev/pandas/issues/54466\n",
      "        \n",
      "  import pandas as pd\n"
     ]
    }
   ],
   "source": [
    "import sqlite3\n",
    "import pandas as pd\n",
    "import numpy as np"
   ]
  },
  {
   "cell_type": "markdown",
   "metadata": {},
   "source": [
    "### Create Three Tables: Active Members, Industry Professionals, Requests"
   ]
  },
  {
   "cell_type": "code",
   "execution_count": 5,
   "metadata": {},
   "outputs": [
    {
     "data": {
      "text/plain": [
       "0"
      ]
     },
     "execution_count": 5,
     "metadata": {},
     "output_type": "execute_result"
    }
   ],
   "source": [
    "# Create the database and establish a connection to the database\n",
    "con = sqlite3.connect(\"BonsaiFamilyTree.db\")\n",
    "\n",
    "# Empty DataFrame for the 'members' table\n",
    "members_columns = [\n",
    "    'Full Name',\n",
    "    'Password',\n",
    "    'Bio',\n",
    "    'Bonsai Role',\n",
    "    'Current Company',\n",
    "    'Email',\n",
    "    'LinkedIn',\n",
    "    'Portfolio Website',\n",
    "    'Github',\n",
    "]\n",
    "members_df = pd.DataFrame(columns=members_columns)\n",
    "\n",
    "# DataFrame for the 'professionals' table\n",
    "professionals_columns = [\n",
    "    'Full Name',\n",
    "    'Role',\n",
    "    'Company',\n",
    "    'Computer Science Interests',\n",
    "    'Email',\n",
    "    'LinkedIn',\n",
    "    'Portfolio Website',\n",
    "    'Bio'\n",
    "]\n",
    "professionals_df = pd.DataFrame(columns=professionals_columns)\n",
    "\n",
    "# DataFrame for the 'requests' table\n",
    "requests_columns = [\n",
    "    'Full Name',\n",
    "    'Role',\n",
    "    'Company'\n",
    "    'Computer Science Interests',\n",
    "    'Email',\n",
    "    'LinkedIn',\n",
    "    'Portfolio Website',\n",
    "    'Bio',\n",
    "    'Request Status'\n",
    "]\n",
    "requests_df = pd.DataFrame(columns=requests_columns)\n",
    "\n",
    "# Add DataFrames as tables to the database\n",
    "members_df.to_sql('Active Members', con, if_exists='replace', index=False)\n",
    "professionals_df.to_sql('Industry Professionals', con, if_exists='replace', index=False)\n",
    "requests_df.to_sql('Requests', con, if_exists='replace', index=False)"
   ]
  },
  {
   "cell_type": "code",
   "execution_count": 7,
   "metadata": {},
   "outputs": [],
   "source": [
    "# Establish a cursor to the databse\n",
    "cur = con.cursor()\n",
    "\n",
    "# Instert a row into the members table\n",
    "cur.execute(\"\"\"\n",
    "    INSERT into \"Active Members\" VALUES\n",
    "            ('test username', 'test password', 'Sam Pass', 'Founder', 'sap215@miami.edu', 'linked link', 'portfolio link', 'github link', 'test bio')\n",
    "\"\"\")\n",
    "\n",
    "# Commit the new row\n",
    "con.commit()"
   ]
  },
  {
   "cell_type": "code",
   "execution_count": 9,
   "metadata": {},
   "outputs": [
    {
     "name": "stdout",
     "output_type": "stream",
     "text": [
      "[('sap215@miami.edu',)]\n"
     ]
    }
   ],
   "source": [
    "# Get the test row from the 'Active Members' table\n",
    "row_value = cur.execute(\"SELECT Email from 'Active Members'\")\n",
    "print(row_value.fetchall())"
   ]
  }
 ],
 "metadata": {
  "kernelspec": {
   "display_name": "Python 3",
   "language": "python",
   "name": "python3"
  },
  "language_info": {
   "codemirror_mode": {
    "name": "ipython",
    "version": 3
   },
   "file_extension": ".py",
   "mimetype": "text/x-python",
   "name": "python",
   "nbconvert_exporter": "python",
   "pygments_lexer": "ipython3",
   "version": "3.10.4"
  }
 },
 "nbformat": 4,
 "nbformat_minor": 2
}
